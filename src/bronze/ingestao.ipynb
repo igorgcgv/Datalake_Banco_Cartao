{
 "cells": [
  {
   "cell_type": "code",
   "execution_count": 0,
   "metadata": {
    "application/vnd.databricks.v1+cell": {
     "cellMetadata": {
      "byteLimit": 2048000,
      "rowLimit": 10000
     },
     "inputWidgets": {},
     "nuid": "b7aee42e-6b13-46e0-8fb9-62d8e10de40b",
     "showTitle": false,
     "tableResultSettingsMap": {},
     "title": ""
    }
   },
   "outputs": [],
   "source": [
    "\n",
    "df_full = spark.read.format(\"csv\").option(\"header\", \"true\").load(\"/Volumes/raw/sys_cadastro/full_load\")\n",
    "df_full.coalesce(1).write.format(\"delta\").saveAsTable(\"bronze.sys_cadastro.cadastro\")\n",
    "#df_full.display()"
   ]
  },
  {
   "cell_type": "code",
   "execution_count": 0,
   "metadata": {
    "application/vnd.databricks.v1+cell": {
     "cellMetadata": {
      "byteLimit": 2048000,
      "implicitDf": true,
      "rowLimit": 10000
     },
     "inputWidgets": {},
     "nuid": "1b2baf33-9447-4ca6-9967-06b6bac83228",
     "showTitle": false,
     "tableResultSettingsMap": {},
     "title": ""
    }
   },
   "outputs": [],
   "source": [
    "%sql\n",
    "SELECT * FROM bronze.sys_cadastro.cadastro"
   ]
  },
  {
   "cell_type": "code",
   "execution_count": 0,
   "metadata": {
    "application/vnd.databricks.v1+cell": {
     "cellMetadata": {
      "byteLimit": 2048000,
      "rowLimit": 10000
     },
     "inputWidgets": {},
     "nuid": "62d6537c-4e07-4d9c-8fc2-f21ccb6207b1",
     "showTitle": false,
     "tableResultSettingsMap": {},
     "title": ""
    }
   },
   "outputs": [],
   "source": [
    "df_cdc = spark.read.format(\"csv\").option(\"header\", \"true\").load(\"/Volumes/raw/sys_cadastro/cdc\")\n",
    "df_cdc.display()"
   ]
  },
  {
   "cell_type": "code",
   "execution_count": 0,
   "metadata": {
    "application/vnd.databricks.v1+cell": {
     "cellMetadata": {
      "byteLimit": 2048000,
      "rowLimit": 10000
     },
     "inputWidgets": {},
     "nuid": "16b51335-3c92-4400-80ab-2ad44dbe5ee7",
     "showTitle": false,
     "tableResultSettingsMap": {},
     "title": ""
    }
   },
   "outputs": [],
   "source": [
    "from pyspark.sql.window import Window\n",
    "from pyspark.sql.functions import row_number,col\n",
    "\n",
    "#df_cdc = spark.read.format(\"csv\").option(\"header\", \"true\").load(\"/Volumes/raw/sys_cadastro/cdc\")\n",
    "#df_full.coalesce(1).write.format(\"delta\").saveAsTable(\"bronze.sys_cadastro.cadastro\")\n",
    "#df_full.display()\n",
    "#df_cdc.createOrReplaceGlobalTempView(\"cadastro\")\n",
    "window_spec = Window.partitionBy(\"Nome\").orderBy(col(\"modified_date\").desc())\n",
    "df_cdc_unique = df_cdc.withColumn(\"row_num\", row_number().over(window_spec)) \\\n",
    "                .filter(\"row_num = 1\") \\\n",
    "                .drop(\"row_num\")\n",
    "df_cdc_unique.display()\n"
   ]
  },
  {
   "cell_type": "code",
   "execution_count": 0,
   "metadata": {
    "application/vnd.databricks.v1+cell": {
     "cellMetadata": {
      "byteLimit": 2048000,
      "rowLimit": 10000
     },
     "inputWidgets": {},
     "nuid": "6ff9ae7b-9280-429e-b55a-49780dede1fc",
     "showTitle": false,
     "tableResultSettingsMap": {},
     "title": ""
    }
   },
   "outputs": [],
   "source": [
    "import delta\n",
    "\n",
    "bronze = delta.DeltaTable.forName(spark, \"bronze.sys_cadastro.cadastro\")\n",
    "bronze"
   ]
  },
  {
   "cell_type": "code",
   "execution_count": 0,
   "metadata": {
    "application/vnd.databricks.v1+cell": {
     "cellMetadata": {
      "byteLimit": 2048000,
      "rowLimit": 10000
     },
     "inputWidgets": {},
     "nuid": "27267e99-2390-40b2-83d5-b57d4af8a3e1",
     "showTitle": false,
     "tableResultSettingsMap": {},
     "title": ""
    }
   },
   "outputs": [],
   "source": [
    "(bronze.alias(\"b\")\n",
    "    .merge(df_cdc_unique.alias(\"d\"), \"b.Nome = d.Nome\")\n",
    "    .whenMatchedDelete(condition= \"d.OP = 'D'\")\n",
    "    .whenMatchedUpdateAll(condition= \"d.OP = 'U'\")\n",
    "    .whenNotMatchedInsertAll(condition= \"d.OP = 'I' OR d.OP = 'U'\")\n",
    "    .execute()\n",
    "    )\n",
    "    "
   ]
  },
  {
   "cell_type": "code",
   "execution_count": 0,
   "metadata": {
    "application/vnd.databricks.v1+cell": {
     "cellMetadata": {
      "byteLimit": 2048000,
      "implicitDf": true,
      "rowLimit": 10000
     },
     "inputWidgets": {},
     "nuid": "eb8d832b-6bb7-4cd1-9b25-4fd884f0abfb",
     "showTitle": false,
     "tableResultSettingsMap": {},
     "title": ""
    }
   },
   "outputs": [],
   "source": [
    "%sql\n",
    "SELECT * FROM bronze.sys_cadastro.cadastro"
   ]
  }
 ],
 "metadata": {
  "application/vnd.databricks.v1+notebook": {
   "computePreferences": null,
   "dashboards": [],
   "environmentMetadata": {
    "base_environment": "",
    "environment_version": "2"
   },
   "language": "python",
   "notebookMetadata": {
    "mostRecentlyExecutedCommandWithImplicitDF": {
     "commandId": 2579466329636993,
     "dataframes": [
      "_sqldf"
     ]
    },
    "pythonIndentUnit": 4
   },
   "notebookName": "ingestao",
   "widgets": {}
  },
  "language_info": {
   "name": "python"
  }
 },
 "nbformat": 4,
 "nbformat_minor": 0
}
