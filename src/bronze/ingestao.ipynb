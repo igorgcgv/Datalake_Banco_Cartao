{
 "cells": [
  {
   "cell_type": "code",
   "execution_count": 0,
   "metadata": {
    "application/vnd.databricks.v1+cell": {
     "cellMetadata": {
      "byteLimit": 2048000,
      "rowLimit": 10000
     },
     "inputWidgets": {},
     "nuid": "0865270b-4b2b-440f-8156-1d766731477d",
     "showTitle": true,
     "tableResultSettingsMap": {},
     "title": "Imports"
    }
   },
   "outputs": [],
   "source": [
    "from pyspark.sql.window import Window\n",
    "from pyspark.sql.functions import row_number,col\n",
    "import delta"
   ]
  },
  {
   "cell_type": "code",
   "execution_count": 0,
   "metadata": {
    "application/vnd.databricks.v1+cell": {
     "cellMetadata": {
      "byteLimit": 2048000,
      "implicitDf": true,
      "rowLimit": 10000
     },
     "inputWidgets": {},
     "nuid": "efc18e58-9169-4f45-92f8-f2e72ec72c85",
     "showTitle": true,
     "tableResultSettingsMap": {},
     "title": "Fuction"
    }
   },
   "outputs": [],
   "source": [
    "def table_exists(catalog,database,table) :\n",
    "\n",
    "    count = (spark.sql(f\"SHOW TABLES FROM {catalog}.{database}\")\n",
    "                .filter(f\"DATABASE = '{database}' AND tableName = '{table}'\")\n",
    "                .count())\n",
    "    return count ==1"
   ]
  },
  {
   "cell_type": "code",
   "execution_count": 0,
   "metadata": {
    "application/vnd.databricks.v1+cell": {
     "cellMetadata": {
      "byteLimit": 2048000,
      "rowLimit": 10000
     },
     "inputWidgets": {},
     "nuid": "a674cfb7-2aca-4a26-9363-06ede8b89207",
     "showTitle": true,
     "tableResultSettingsMap": {},
     "title": "Variaveis"
    }
   },
   "outputs": [],
   "source": [
    "catalog = \"bronze\"\n",
    "database = dbutils.widgets.get(\"database\")\n",
    "table = dbutils.widgets.get(\"table\")\n",
    "id_field = dbutils.widgets.get(\"id_field\")\n",
    "timestamp_field = dbutils.widgets.get(\"timestamp_field\")"
   ]
  },
  {
   "cell_type": "code",
   "execution_count": 0,
   "metadata": {
    "application/vnd.databricks.v1+cell": {
     "cellMetadata": {
      "byteLimit": 2048000,
      "rowLimit": 10000
     },
     "inputWidgets": {},
     "nuid": "34e6702e-b151-4936-aef5-b5daeb7507c2",
     "showTitle": true,
     "tableResultSettingsMap": {},
     "title": "Full Load"
    }
   },
   "outputs": [],
   "source": [
    "if not table_exists(catalog,database,table):\n",
    "\n",
    "    print(\"Table does not exist\")\n",
    "\n",
    "    df_full = spark.read.format(\"csv\").option(\"header\", \"true\").load(f\"/Volumes/raw/{database}/full_load\")    \n",
    "    df_full.coalesce(1).write.format(\"delta\").mode(\"overwrite\").saveAsTable(f\"{catalog}.{database}.{table}\")\n",
    "else :\n",
    "    print(\"Table already exists\")\n"
   ]
  },
  {
   "cell_type": "code",
   "execution_count": 0,
   "metadata": {
    "application/vnd.databricks.v1+cell": {
     "cellMetadata": {
      "byteLimit": 2048000,
      "rowLimit": 10000
     },
     "inputWidgets": {},
     "nuid": "62d6537c-4e07-4d9c-8fc2-f21ccb6207b1",
     "showTitle": true,
     "tableResultSettingsMap": {},
     "title": "Incremental Load"
    }
   },
   "outputs": [],
   "source": [
    "df_cdc = spark.read.format(\"csv\").option(\"header\", \"true\").load(f\"/Volumes/raw/{database}/cdc\")\n",
    "df_cdc.display()"
   ]
  },
  {
   "cell_type": "code",
   "execution_count": 0,
   "metadata": {
    "application/vnd.databricks.v1+cell": {
     "cellMetadata": {
      "byteLimit": 2048000,
      "rowLimit": 10000
     },
     "inputWidgets": {},
     "nuid": "16b51335-3c92-4400-80ab-2ad44dbe5ee7",
     "showTitle": true,
     "tableResultSettingsMap": {},
     "title": "Capturando o ultimo registro"
    }
   },
   "outputs": [],
   "source": [
    "\n",
    "\n",
    "\n",
    "window_spec = Window.partitionBy(f\"{id_field}\").orderBy(col(f\"{timestamp_field}\").desc())\n",
    "df_cdc_unique = df_cdc.withColumn(\"row_num\", row_number().over(window_spec)) \\\n",
    "                .filter(\"row_num = 1\") \\\n",
    "                .drop(\"row_num\")\n",
    "df_cdc_unique.display()\n"
   ]
  },
  {
   "cell_type": "code",
   "execution_count": 0,
   "metadata": {
    "application/vnd.databricks.v1+cell": {
     "cellMetadata": {
      "byteLimit": 2048000,
      "rowLimit": 10000
     },
     "inputWidgets": {},
     "nuid": "6ff9ae7b-9280-429e-b55a-49780dede1fc",
     "showTitle": true,
     "tableResultSettingsMap": {},
     "title": "Carregando a Tabela Full Load"
    }
   },
   "outputs": [],
   "source": [
    "\n",
    "\n",
    "bronze = delta.DeltaTable.forName(spark, f\"{catalog}.{database}.{table}\")\n",
    "bronze"
   ]
  },
  {
   "cell_type": "code",
   "execution_count": 0,
   "metadata": {
    "application/vnd.databricks.v1+cell": {
     "cellMetadata": {
      "byteLimit": 2048000,
      "rowLimit": 10000
     },
     "inputWidgets": {},
     "nuid": "27267e99-2390-40b2-83d5-b57d4af8a3e1",
     "showTitle": true,
     "tableResultSettingsMap": {},
     "title": "UPSERT"
    }
   },
   "outputs": [],
   "source": [
    "#UPSERT\n",
    "\n",
    "(bronze.alias(\"b\")\n",
    "    .merge(df_cdc_unique.alias(\"d\"), f\"b.{id_field} = d.{id_field}\")\n",
    "    .whenMatchedDelete(condition= \"d.OP = 'D'\")\n",
    "    .whenMatchedUpdateAll(condition= \"d.OP = 'U'\")\n",
    "    .whenNotMatchedInsertAll(condition= \"d.OP = 'I' OR d.OP = 'U'\")\n",
    "    .execute()\n",
    "    )\n",
    "    "
   ]
  }
 ],
 "metadata": {
  "application/vnd.databricks.v1+notebook": {
   "computePreferences": null,
   "dashboards": [],
   "environmentMetadata": {
    "base_environment": "",
    "environment_version": "2"
   },
   "language": "python",
   "notebookMetadata": {
    "mostRecentlyExecutedCommandWithImplicitDF": {
     "commandId": -1,
     "dataframes": [
      "_sqldf"
     ]
    },
    "pythonIndentUnit": 4
   },
   "notebookName": "ingestao",
   "widgets": {}
  },
  "language_info": {
   "name": "python"
  }
 },
 "nbformat": 4,
 "nbformat_minor": 0
}
